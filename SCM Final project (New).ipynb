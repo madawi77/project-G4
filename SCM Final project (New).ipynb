{
 "cells": [
  {
   "cell_type": "markdown",
   "metadata": {},
   "source": [
    "# Convex Lens In Python"
   ]
  },
  {
   "cell_type": "markdown",
   "metadata": {
    "id": "-z4dGc3KudhB"
   },
   "source": [
    "# table 1"
   ]
  },
  {
   "cell_type": "code",
   "execution_count": 1,
   "metadata": {
    "id": "KFWHIEJ7oIt8"
   },
   "outputs": [],
   "source": [
    "import pandas as pd \n",
    "import matplotlib.pyplot as plt\n",
    "import numpy as np "
   ]
  },
  {
   "cell_type": "code",
   "execution_count": 2,
   "metadata": {
    "colab": {
     "base_uri": "https://localhost:8080/",
     "height": 237
    },
    "id": "tCrjD7PgpN1u",
    "outputId": "7f43f0b6-a0e2-4481-9c94-4ae3a8a41fb4"
   },
   "outputs": [
    {
     "data": {
      "text/html": [
       "<style  type=\"text/css\" >\n",
       "#T_0753f_row0_col0,#T_0753f_row0_col1,#T_0753f_row0_col2,#T_0753f_row0_col3,#T_0753f_row0_col4,#T_0753f_row0_col5,#T_0753f_row0_col6,#T_0753f_row1_col0,#T_0753f_row1_col1,#T_0753f_row1_col2,#T_0753f_row1_col3,#T_0753f_row1_col4,#T_0753f_row1_col5,#T_0753f_row1_col6,#T_0753f_row2_col0,#T_0753f_row2_col1,#T_0753f_row2_col2,#T_0753f_row2_col3,#T_0753f_row2_col4,#T_0753f_row2_col5,#T_0753f_row2_col6,#T_0753f_row3_col0,#T_0753f_row3_col1,#T_0753f_row3_col2,#T_0753f_row3_col3,#T_0753f_row3_col4,#T_0753f_row3_col5,#T_0753f_row3_col6,#T_0753f_row4_col0,#T_0753f_row4_col1,#T_0753f_row4_col2,#T_0753f_row4_col3,#T_0753f_row4_col4,#T_0753f_row4_col5,#T_0753f_row4_col6,#T_0753f_row5_col0,#T_0753f_row5_col1,#T_0753f_row5_col2,#T_0753f_row5_col3,#T_0753f_row5_col4,#T_0753f_row5_col5,#T_0753f_row5_col6{\n",
       "            background-color: #EAF1CB;\n",
       "        }</style><table id=\"T_0753f_\" ><thead>    <tr>        <th class=\"blank level0\" ></th>        <th class=\"col_heading level0 col0\" >distane_from_ls</th>        <th class=\"col_heading level0 col1\" >Do</th>        <th class=\"col_heading level0 col2\" >Di</th>        <th class=\"col_heading level0 col3\" >image_size</th>        <th class=\"col_heading level0 col4\" >object_size</th>        <th class=\"col_heading level0 col5\" >INVERSE_DI</th>        <th class=\"col_heading level0 col6\" >INVERSE_DO</th>    </tr></thead><tbody>\n",
       "                <tr>\n",
       "                        <th id=\"T_0753f_level0_row0\" class=\"row_heading level0 row0\" >0</th>\n",
       "                        <td id=\"T_0753f_row0_col0\" class=\"data row0 col0\" >100</td>\n",
       "                        <td id=\"T_0753f_row0_col1\" class=\"data row0 col1\" >88.500000</td>\n",
       "                        <td id=\"T_0753f_row0_col2\" class=\"data row0 col2\" >11.500000</td>\n",
       "                        <td id=\"T_0753f_row0_col3\" class=\"data row0 col3\" >0.700000</td>\n",
       "                        <td id=\"T_0753f_row0_col4\" class=\"data row0 col4\" >4</td>\n",
       "                        <td id=\"T_0753f_row0_col5\" class=\"data row0 col5\" >0.086957</td>\n",
       "                        <td id=\"T_0753f_row0_col6\" class=\"data row0 col6\" >0.011299</td>\n",
       "            </tr>\n",
       "            <tr>\n",
       "                        <th id=\"T_0753f_level0_row1\" class=\"row_heading level0 row1\" >1</th>\n",
       "                        <td id=\"T_0753f_row1_col0\" class=\"data row1 col0\" >90</td>\n",
       "                        <td id=\"T_0753f_row1_col1\" class=\"data row1 col1\" >78.400000</td>\n",
       "                        <td id=\"T_0753f_row1_col2\" class=\"data row1 col2\" >11.600000</td>\n",
       "                        <td id=\"T_0753f_row1_col3\" class=\"data row1 col3\" >0.700000</td>\n",
       "                        <td id=\"T_0753f_row1_col4\" class=\"data row1 col4\" >4</td>\n",
       "                        <td id=\"T_0753f_row1_col5\" class=\"data row1 col5\" >0.086207</td>\n",
       "                        <td id=\"T_0753f_row1_col6\" class=\"data row1 col6\" >0.012755</td>\n",
       "            </tr>\n",
       "            <tr>\n",
       "                        <th id=\"T_0753f_level0_row2\" class=\"row_heading level0 row2\" >2</th>\n",
       "                        <td id=\"T_0753f_row2_col0\" class=\"data row2 col0\" >80</td>\n",
       "                        <td id=\"T_0753f_row2_col1\" class=\"data row2 col1\" >68.400000</td>\n",
       "                        <td id=\"T_0753f_row2_col2\" class=\"data row2 col2\" >11.600000</td>\n",
       "                        <td id=\"T_0753f_row2_col3\" class=\"data row2 col3\" >0.700000</td>\n",
       "                        <td id=\"T_0753f_row2_col4\" class=\"data row2 col4\" >4</td>\n",
       "                        <td id=\"T_0753f_row2_col5\" class=\"data row2 col5\" >0.086207</td>\n",
       "                        <td id=\"T_0753f_row2_col6\" class=\"data row2 col6\" >0.014620</td>\n",
       "            </tr>\n",
       "            <tr>\n",
       "                        <th id=\"T_0753f_level0_row3\" class=\"row_heading level0 row3\" >3</th>\n",
       "                        <td id=\"T_0753f_row3_col0\" class=\"data row3 col0\" >70</td>\n",
       "                        <td id=\"T_0753f_row3_col1\" class=\"data row3 col1\" >57.800000</td>\n",
       "                        <td id=\"T_0753f_row3_col2\" class=\"data row3 col2\" >12.200000</td>\n",
       "                        <td id=\"T_0753f_row3_col3\" class=\"data row3 col3\" >0.700000</td>\n",
       "                        <td id=\"T_0753f_row3_col4\" class=\"data row3 col4\" >4</td>\n",
       "                        <td id=\"T_0753f_row3_col5\" class=\"data row3 col5\" >0.081967</td>\n",
       "                        <td id=\"T_0753f_row3_col6\" class=\"data row3 col6\" >0.017301</td>\n",
       "            </tr>\n",
       "            <tr>\n",
       "                        <th id=\"T_0753f_level0_row4\" class=\"row_heading level0 row4\" >4</th>\n",
       "                        <td id=\"T_0753f_row4_col0\" class=\"data row4 col0\" >60</td>\n",
       "                        <td id=\"T_0753f_row4_col1\" class=\"data row4 col1\" >47.100000</td>\n",
       "                        <td id=\"T_0753f_row4_col2\" class=\"data row4 col2\" >13.000000</td>\n",
       "                        <td id=\"T_0753f_row4_col3\" class=\"data row4 col3\" >0.700000</td>\n",
       "                        <td id=\"T_0753f_row4_col4\" class=\"data row4 col4\" >4</td>\n",
       "                        <td id=\"T_0753f_row4_col5\" class=\"data row4 col5\" >0.076923</td>\n",
       "                        <td id=\"T_0753f_row4_col6\" class=\"data row4 col6\" >0.021231</td>\n",
       "            </tr>\n",
       "            <tr>\n",
       "                        <th id=\"T_0753f_level0_row5\" class=\"row_heading level0 row5\" >5</th>\n",
       "                        <td id=\"T_0753f_row5_col0\" class=\"data row5 col0\" >50</td>\n",
       "                        <td id=\"T_0753f_row5_col1\" class=\"data row5 col1\" >36.000000</td>\n",
       "                        <td id=\"T_0753f_row5_col2\" class=\"data row5 col2\" >14.000000</td>\n",
       "                        <td id=\"T_0753f_row5_col3\" class=\"data row5 col3\" >0.700000</td>\n",
       "                        <td id=\"T_0753f_row5_col4\" class=\"data row5 col4\" >4</td>\n",
       "                        <td id=\"T_0753f_row5_col5\" class=\"data row5 col5\" >0.071429</td>\n",
       "                        <td id=\"T_0753f_row5_col6\" class=\"data row5 col6\" >0.027778</td>\n",
       "            </tr>\n",
       "    </tbody></table>"
      ],
      "text/plain": [
       "<pandas.io.formats.style.Styler at 0x7fa5201a27c0>"
      ]
     },
     "execution_count": 2,
     "metadata": {},
     "output_type": "execute_result"
    }
   ],
   "source": [
    "dict1={\"distane_from_ls\":[100,90,80,70,60,50],\"Do\":[88.5,78.4,68.4,57.8,47.1,36],\"Di\":[11.5,11.6,11.6,12.2,13,14],\"image_size\":[0.7,0.7,0.7,0.7,0.7,0.7],\"object_size\":[4,4,4,4,4,4]}\n",
    "df=pd.DataFrame(dict1)\n",
    "image=lambda Di: 1/Di\n",
    "df[\"INVERSE_DI\"]=image(df.Di)\n",
    "object=lambda Do:1/Do\n",
    "df[\"INVERSE_DO\"]=object(df.Do)\n",
    "def highlight(row):\n",
    "   s=row[\"INVERSE_DO\"]\n",
    "   if s>=0:\n",
    "     css=\"background-color:#EAF1CB\"\n",
    "     return[css]*len(row)\n",
    "df.style.apply(highlight, axis=1)"
   ]
  },
  {
   "cell_type": "markdown",
   "metadata": {
    "id": "foq7Qqj5uh17"
   },
   "source": [
    "# plotting"
   ]
  },
  {
   "cell_type": "code",
   "execution_count": 4,
   "metadata": {
    "colab": {
     "base_uri": "https://localhost:8080/",
     "height": 350
    },
    "id": "pmVo27kVujED",
    "outputId": "d208be37-c22b-4876-c8f8-00a192e96729"
   },
   "outputs": [
    {
     "name": "stderr",
     "output_type": "stream",
     "text": [
      "/usr/local/lib/python3.7/dist-packages/ipykernel_launcher.py:11: MatplotlibDeprecationWarning: Adding an axes using the same arguments as a previous axes currently reuses the earlier instance.  In a future version, a new instance will always be created and returned.  Meanwhile, this warning can be suppressed, and the future behavior ensured, by passing a unique label to each axes instance.\n",
      "  # This is added back by InteractiveShellApp.init_path()\n"
     ]
    },
    {
     "data": {
      "image/png": "[encoded data removed]",
      "text/plain": [
       "<Figure size 432x288 with 1 Axes>"
      ]
     },
     "metadata": {},
     "output_type": "display_data"
    }
   ],
   "source": [
    "\n",
    "x=df.INVERSE_DO\n",
    "y=df.INVERSE_DI\n",
    "m,b=np.polyfit(x,y,1)\n",
    "plt.figure(facecolor=\"#2f4750\")\n",
    "plt.plot(x,y,\"o\",color=\"#eddaa6\")\n",
    "plt.plot(x,m*x+b,color=\"#eddaa6\")\n",
    "plt.title(\"convex lens\")\n",
    "plt.xlabel(\"1/do\")\n",
    "plt.ylabel(\"1/di\")\n",
    "ax=plt.axes()\n",
    "ax.set_facecolor(\"#2f4750\")\n",
    "plt.grid()\n",
    "plt.show()"
   ]
  },
  {
   "cell_type": "markdown",
   "metadata": {
    "id": "eJfeBJ2Ma2Oc"
   },
   "source": [
    "# table2"
   ]
  },
  {
   "cell_type": "code",
   "execution_count": null,
   "metadata": {
    "colab": {
     "base_uri": "https://localhost:8080/",
     "height": 81
    },
    "id": "_BTwDAdmwcYu",
    "outputId": "e4ca842c-1266-4553-af6d-9d433e9416c7"
   },
   "outputs": [
    {
     "data": {
      "text/html": [
       "<div>\n",
       "<style scoped>\n",
       "    .dataframe tbody tr th:only-of-type {\n",
       "        vertical-align: middle;\n",
       "    }\n",
       "\n",
       "    .dataframe tbody tr th {\n",
       "        vertical-align: top;\n",
       "    }\n",
       "\n",
       "    .dataframe thead th {\n",
       "        text-align: right;\n",
       "    }\n",
       "</style>\n",
       "<table border=\"1\" class=\"dataframe\">\n",
       "  <thead>\n",
       "    <tr style=\"text-align: right;\">\n",
       "      <th></th>\n",
       "      <th>resultfrom x</th>\n",
       "      <th>result from y</th>\n",
       "      <th>average result from intercept</th>\n",
       "      <th>result from part1</th>\n",
       "      <th>diffrene between results</th>\n",
       "    </tr>\n",
       "  </thead>\n",
       "  <tbody>\n",
       "    <tr>\n",
       "      <th>0</th>\n",
       "      <td>0.08</td>\n",
       "      <td>0.101</td>\n",
       "      <td>0.0945</td>\n",
       "      <td>11.2</td>\n",
       "      <td>6.6</td>\n",
       "    </tr>\n",
       "  </tbody>\n",
       "</table>\n",
       "</div>"
      ],
      "text/plain": [
       "   resultfrom x  result from y  ...  result from part1  diffrene between results\n",
       "0          0.08          0.101  ...               11.2                       6.6\n",
       "\n",
       "[1 rows x 5 columns]"
      ]
     },
     "execution_count": 17,
     "metadata": {},
     "output_type": "execute_result"
    }
   ],
   "source": [
    "dict2={\"resultfrom x\":[0.08],\"result from y\":[0.101],\"average result from intercept\":[0.0945],\"result from part1\":[11.2],\"diffrene between results\":[6.6]}\n",
    "df2=pd.DataFrame(dict2)\n",
    "df2"
   ]
  },
  {
   "cell_type": "code",
   "execution_count": null,
   "metadata": {
    "colab": {
     "base_uri": "https://localhost:8080/",
     "height": 112
    },
    "id": "X24eQlsHatVF",
    "outputId": "f166cba9-2c70-4974-b06a-0b3c14c6e45d"
   },
   "outputs": [
    {
     "data": {
      "text/html": [
       "<div>\n",
       "<style scoped>\n",
       "    .dataframe tbody tr th:only-of-type {\n",
       "        vertical-align: middle;\n",
       "    }\n",
       "\n",
       "    .dataframe tbody tr th {\n",
       "        vertical-align: top;\n",
       "    }\n",
       "\n",
       "    .dataframe thead th {\n",
       "        text-align: right;\n",
       "    }\n",
       "</style>\n",
       "<table border=\"1\" class=\"dataframe\">\n",
       "  <thead>\n",
       "    <tr style=\"text-align: right;\">\n",
       "      <th></th>\n",
       "      <th>m calculated from theobject and image distance</th>\n",
       "      <th>absolute M</th>\n",
       "      <th>pe diffrence</th>\n",
       "    </tr>\n",
       "  </thead>\n",
       "  <tbody>\n",
       "    <tr>\n",
       "      <th>0</th>\n",
       "      <td>-0.129</td>\n",
       "      <td>0.175</td>\n",
       "      <td>26%</td>\n",
       "    </tr>\n",
       "    <tr>\n",
       "      <th>1</th>\n",
       "      <td>-0.147</td>\n",
       "      <td>0.175</td>\n",
       "      <td>16%</td>\n",
       "    </tr>\n",
       "  </tbody>\n",
       "</table>\n",
       "</div>"
      ],
      "text/plain": [
       "   m calculated from theobject and image distance  absolute M pe diffrence\n",
       "0                                          -0.129       0.175          26%\n",
       "1                                          -0.147       0.175          16%"
      ]
     },
     "execution_count": 18,
     "metadata": {},
     "output_type": "execute_result"
    }
   ],
   "source": [
    "dict3={\"m calculated from theobject and image distance\":[-0.129,-0.147],\"absolute M\":[0.175,0.175],\"pe diffrence\":[\"26%\",\"16%\"]}\n",
    "df3=pd.DataFrame(dict3)\n",
    "df3"
   ]
  },
  {
   "cell_type": "markdown",
   "metadata": {
    "id": "IUNOoN2sc28i"
   },
   "source": [
    "# problems "
   ]
  },
  {
   "cell_type": "markdown",
   "metadata": {},
   "source": [
    "# Integration\n"
   ]
  },
  {
   "cell_type": "markdown",
   "metadata": {},
   "source": [
    "# Define a Function\n"
   ]
  },
  {
   "cell_type": "code",
   "execution_count": 4,
   "metadata": {},
   "outputs": [
    {
     "data": {
      "text/latex": [
       "$\\displaystyle \\cos^{2}{\\left(x \\right)}$"
      ],
      "text/plain": [
       "cos(x)**2"
      ]
     },
     "execution_count": 4,
     "metadata": {},
     "output_type": "execute_result"
    }
   ],
   "source": [
    "import sympy as sp\n",
    "from sympy import symbols\n",
    "x= symbols ('x')\n",
    "f= (sp.cos(x))**2 # define a function\n",
    "f"
   ]
  },
  {
   "cell_type": "markdown",
   "metadata": {},
   "source": [
    "# Write the integral in sympy"
   ]
  },
  {
   "cell_type": "code",
   "execution_count": 5,
   "metadata": {},
   "outputs": [
    {
     "data": {
      "text/latex": [
       "$\\displaystyle \\int\\limits_{0}^{\\pi} \\cos^{2}{\\left(x \\right)}\\, dx$"
      ],
      "text/plain": [
       "Integral(cos(x)**2, (x, 0, pi))"
      ]
     },
     "execution_count": 5,
     "metadata": {},
     "output_type": "execute_result"
    }
   ],
   "source": [
    "a= sp.Integral(f,(x,0,sp.pi))   # I is \"capital \"\n",
    "a  "
   ]
  },
  {
   "cell_type": "markdown",
   "metadata": {},
   "source": [
    "# Solve The integration\n",
    "\n"
   ]
  },
  {
   "cell_type": "code",
   "execution_count": 6,
   "metadata": {},
   "outputs": [
    {
     "data": {
      "text/latex": [
       "$\\displaystyle \\frac{\\pi}{2}$"
      ],
      "text/plain": [
       "pi/2"
      ]
     },
     "execution_count": 6,
     "metadata": {},
     "output_type": "execute_result"
    }
   ],
   "source": [
    "b= sp.integrate(f,(x,0,sp.pi))\n",
    "b"
   ]
  },
  {
   "cell_type": "markdown",
   "metadata": {},
   "source": [
    "# Write the output in a propriate way"
   ]
  },
  {
   "cell_type": "code",
   "execution_count": 7,
   "metadata": {},
   "outputs": [
    {
     "name": "stdout",
     "output_type": "stream",
     "text": [
      "The integration is equal to :  pi/2\n"
     ]
    }
   ],
   "source": [
    "print(\"The integration is equal to : \", b )"
   ]
  }
 ],
 "metadata": {
  "colab": {
   "collapsed_sections": [],
   "name": "projectG4.ipynb",
   "provenance": []
  },
  "kernelspec": {
   "display_name": "Python 3",
   "language": "python",
   "name": "python3"
  },
  "language_info": {
   "codemirror_mode": {
    "name": "ipython",
    "version": 3
   },
   "file_extension": ".py",
   "mimetype": "text/x-python",
   "name": "python",
   "nbconvert_exporter": "python",
   "pygments_lexer": "ipython3",
   "version": "3.8.8"
  }
 },
 "nbformat": 4,
 "nbformat_minor": 1
}
